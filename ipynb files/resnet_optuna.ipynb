{
 "cells": [
  {
   "cell_type": "code",
   "execution_count": null,
   "metadata": {
    "id": "k9s-G3O0_dFN"
   },
   "outputs": [],
   "source": [
    "# scratch model\n",
    "# transfer learning 1\n",
    "# transfer learning 2"
   ]
  },
  {
   "cell_type": "code",
   "execution_count": 18,
   "metadata": {
    "colab": {
     "base_uri": "https://localhost:8080/"
    },
    "execution": {
     "iopub.execute_input": "2025-06-26T12:43:41.595643Z",
     "iopub.status.busy": "2025-06-26T12:43:41.595068Z",
     "iopub.status.idle": "2025-06-26T12:43:44.591416Z",
     "shell.execute_reply": "2025-06-26T12:43:44.590628Z",
     "shell.execute_reply.started": "2025-06-26T12:43:41.595621Z"
    },
    "id": "-GThA0dHCo-8",
    "outputId": "3ec3f541-c7dd-4cf6-fcf0-8756875e4ce5",
    "trusted": true
   },
   "outputs": [
    {
     "name": "stdout",
     "output_type": "stream",
     "text": [
      "Requirement already satisfied: split-folders in /usr/local/lib/python3.11/dist-packages (0.5.1)\n"
     ]
    }
   ],
   "source": [
    "!pip install split-folders"
   ]
  },
  {
   "cell_type": "code",
   "execution_count": 19,
   "metadata": {
    "execution": {
     "iopub.execute_input": "2025-06-26T12:43:52.710288Z",
     "iopub.status.busy": "2025-06-26T12:43:52.709974Z",
     "iopub.status.idle": "2025-06-26T12:43:52.716341Z",
     "shell.execute_reply": "2025-06-26T12:43:52.715567Z",
     "shell.execute_reply.started": "2025-06-26T12:43:52.710261Z"
    },
    "id": "m26rzzC8_qCM",
    "trusted": true
   },
   "outputs": [
    {
     "name": "stdout",
     "output_type": "stream",
     "text": [
      "2.18.0\n"
     ]
    }
   ],
   "source": [
    "import os \n",
    "import logging\n",
    "import optuna\n",
    "\n",
    "import tensorflow\n",
    "import matplotlib.pyplot as plt \n",
    "\n",
    "from tensorflow import keras\n",
    "from tensorflow.keras import layers\n",
    "from tensorflow.keras.models import Sequential\n",
    "from tensorflow.keras.metrics import Precision, Recall\n",
    "from tensorflow.keras.callbacks import ModelCheckpoint, EarlyStopping\n",
    "\n",
    "\n",
    "\n",
    "print(tensorflow.__version__)"
   ]
  },
  {
   "cell_type": "code",
   "execution_count": 12,
   "metadata": {
    "colab": {
     "base_uri": "https://localhost:8080/"
    },
    "execution": {
     "iopub.execute_input": "2025-06-26T12:40:38.850809Z",
     "iopub.status.busy": "2025-06-26T12:40:38.850116Z",
     "iopub.status.idle": "2025-06-26T12:41:00.058170Z",
     "shell.execute_reply": "2025-06-26T12:41:00.057468Z",
     "shell.execute_reply.started": "2025-06-26T12:40:38.850784Z"
    },
    "id": "1q519mW1CrT4",
    "outputId": "dbd8ec52-55f7-41f9-d640-65fc3f042fa1",
    "trusted": true
   },
   "outputs": [
    {
     "name": "stderr",
     "output_type": "stream",
     "text": [
      "Copying files: 5194 files [00:21, 245.13 files/s]\n"
     ]
    }
   ],
   "source": [
    "import splitfolders\n",
    "\n",
    "# Split with a ratio.\n",
    "# To only split into training and validation set, set a tuple to `ratio`, i.e, `(.8, .2)`.\n",
    "splitfolders.ratio(\"/kaggle/input/image-dataset/data\", output=\"/kaggle/working/main\",seed=1337, ratio=(.7, .2, .1))"
   ]
  },
  {
   "cell_type": "code",
   "execution_count": 8,
   "metadata": {
    "execution": {
     "iopub.execute_input": "2025-06-21T19:23:10.629147Z",
     "iopub.status.busy": "2025-06-21T19:23:10.628846Z",
     "iopub.status.idle": "2025-06-21T19:23:12.458332Z",
     "shell.execute_reply": "2025-06-21T19:23:12.453896Z",
     "shell.execute_reply.started": "2025-06-21T19:23:10.629121Z"
    },
    "trusted": true
   },
   "outputs": [
    {
     "data": {
      "text/plain": [
       "'/kaggle/working/OUTPUT_NAME.zip'"
      ]
     },
     "execution_count": 8,
     "metadata": {},
     "output_type": "execute_result"
    }
   ],
   "source": [
    "# import shutil\n",
    "# shutil.make_archive('OUTPUT_NAME', 'zip', \"/kaggle/working/main\")\n"
   ]
  },
  {
   "cell_type": "code",
   "execution_count": 20,
   "metadata": {
    "colab": {
     "base_uri": "https://localhost:8080/"
    },
    "execution": {
     "iopub.execute_input": "2025-06-26T12:44:03.805402Z",
     "iopub.status.busy": "2025-06-26T12:44:03.805098Z",
     "iopub.status.idle": "2025-06-26T12:44:04.090257Z",
     "shell.execute_reply": "2025-06-26T12:44:04.089656Z",
     "shell.execute_reply.started": "2025-06-26T12:44:03.805379Z"
    },
    "id": "sb4j8hvdC7Rk",
    "outputId": "bc27b83f-ab53-4dea-e9f1-a82a1747e2e3",
    "trusted": true
   },
   "outputs": [
    {
     "name": "stdout",
     "output_type": "stream",
     "text": [
      "Found 3635 files belonging to 5 classes.\n",
      "Found 1038 files belonging to 5 classes.\n",
      "Found 521 files belonging to 5 classes.\n"
     ]
    }
   ],
   "source": [
    "# creating a pipeline to generate the data : data generator\n",
    "\n",
    "train = keras.utils.image_dataset_from_directory(\n",
    "    \"/kaggle/working/main/train\",\n",
    "    labels=\"inferred\",\n",
    "    label_mode=\"int\",\n",
    "    color_mode=\"rgb\",\n",
    "    batch_size=32,\n",
    "    image_size=(224, 224),\n",
    "    shuffle=True,\n",
    "    verbose=True,\n",
    ")\n",
    "val = keras.utils.image_dataset_from_directory(\n",
    "    \"/kaggle/working/main/val\",\n",
    "    labels=\"inferred\",\n",
    "    label_mode=\"int\",\n",
    "    color_mode=\"rgb\",\n",
    "    batch_size=32,\n",
    "    image_size=(224, 224),\n",
    "    shuffle=True,\n",
    "    verbose=True,\n",
    ")\n",
    "test = keras.utils.image_dataset_from_directory(\n",
    "    \"/kaggle/working/main/test\",\n",
    "    labels=\"inferred\",\n",
    "    label_mode=\"int\",\n",
    "    color_mode=\"rgb\",\n",
    "    batch_size=32,\n",
    "    image_size=(224, 224),\n",
    "    shuffle=True,\n",
    "    verbose=True,\n",
    ")"
   ]
  },
  {
   "cell_type": "markdown",
   "metadata": {},
   "source": [
    "# vgg16 with optuna "
   ]
  },
  {
   "cell_type": "code",
   "execution_count": 21,
   "metadata": {
    "execution": {
     "iopub.execute_input": "2025-06-26T12:44:10.770285Z",
     "iopub.status.busy": "2025-06-26T12:44:10.770012Z",
     "iopub.status.idle": "2025-06-26T12:44:10.774365Z",
     "shell.execute_reply": "2025-06-26T12:44:10.773439Z",
     "shell.execute_reply.started": "2025-06-26T12:44:10.770267Z"
    },
    "trusted": true
   },
   "outputs": [],
   "source": [
    "optuna.logging.get_logger('optuna').addHandler(logging.StreamHandler())"
   ]
  },
  {
   "cell_type": "code",
   "execution_count": 22,
   "metadata": {
    "execution": {
     "iopub.execute_input": "2025-06-26T12:44:13.395553Z",
     "iopub.status.busy": "2025-06-26T12:44:13.395285Z",
     "iopub.status.idle": "2025-06-26T12:44:13.427416Z",
     "shell.execute_reply": "2025-06-26T12:44:13.426823Z",
     "shell.execute_reply.started": "2025-06-26T12:44:13.395536Z"
    },
    "trusted": true
   },
   "outputs": [],
   "source": [
    "train = train.map(lambda x, y: (x / 255.0, y)).cache().shuffle(1000).prefetch(tensorflow.data.AUTOTUNE)\n",
    "val = val.map(lambda x, y: (x / 255.0, y)).cache().prefetch(tensorflow.data.AUTOTUNE)\n"
   ]
  },
  {
   "cell_type": "code",
   "execution_count": 23,
   "metadata": {
    "execution": {
     "iopub.execute_input": "2025-06-26T12:44:16.325336Z",
     "iopub.status.busy": "2025-06-26T12:44:16.325082Z",
     "iopub.status.idle": "2025-06-26T12:44:16.334200Z",
     "shell.execute_reply": "2025-06-26T12:44:16.333321Z",
     "shell.execute_reply.started": "2025-06-26T12:44:16.325320Z"
    },
    "trusted": true
   },
   "outputs": [],
   "source": [
    "import os\n",
    "import optuna\n",
    "from tensorflow import keras\n",
    "from tensorflow.keras import layers, Sequential\n",
    "from tensorflow.keras.callbacks import ModelCheckpoint, EarlyStopping\n",
    "\n",
    "def objective(trial):\n",
    "    # --- Hyperparameter Suggestions ---\n",
    "    activation = trial.suggest_categorical(\"activation\", [\"relu\", \"tanh\", \"parametric relu\"])\n",
    "    n_layers = trial.suggest_int(\"n_layers\", 1, 3)\n",
    "    n_units = trial.suggest_categorical(\"n_units\", [64, 128, 256, 512])\n",
    "    optimizer = trial.suggest_categorical(\"optimizer\", [\"adam\", \"sgd\", \"adagrad\"])\n",
    "\n",
    "    # --- Base Pretrained Model ---\n",
    "    base_model = keras.applications.ResNet50(\n",
    "        include_top=False, weights='imagenet', input_shape=(224, 224, 3)\n",
    "    )\n",
    "    base_model.trainable = False\n",
    "\n",
    "    # --- Build the Model ---\n",
    "    model = Sequential()\n",
    "    model.add(base_model)\n",
    "    model.add(layers.GlobalAveragePooling2D())\n",
    "\n",
    "    for _ in range(n_layers):\n",
    "        model.add(layers.Dense(n_units))\n",
    "        if activation == \"parametric relu\":\n",
    "            model.add(layers.PReLU())\n",
    "        else:\n",
    "            model.add(layers.Activation(activation))\n",
    "        model.add(layers.Dropout(0.5))\n",
    "\n",
    "    model.add(layers.Dense(17, activation=\"softmax\"))\n",
    "\n",
    "    model.compile(\n",
    "        optimizer=optimizer,\n",
    "        loss=\"sparse_categorical_crossentropy\",\n",
    "        metrics=[\"accuracy\"]\n",
    "    )\n",
    "\n",
    "    # --- Checkpoint and EarlyStopping ---\n",
    "    os.makedirs(\"resnet_checkpoints\", exist_ok=True)\n",
    "    checkpoint_path = f\"resnet_checkpoints/resnet_trial_{trial.number}.keras\"\n",
    "\n",
    "    callbacks = [\n",
    "        ModelCheckpoint(\n",
    "            filepath=checkpoint_path,\n",
    "            monitor=\"val_loss\",\n",
    "            save_best_only=True,\n",
    "            save_weights_only=False,\n",
    "            mode=\"min\",\n",
    "            verbose=0\n",
    "        ),\n",
    "        EarlyStopping(\n",
    "            monitor=\"val_loss\",\n",
    "            patience=10,\n",
    "            restore_best_weights=True,\n",
    "            verbose=0\n",
    "        )\n",
    "    ]\n",
    "\n",
    "    # --- Model Training ---\n",
    "    history = model.fit(\n",
    "        train,\n",
    "        validation_data=val,\n",
    "        epochs=50,\n",
    "        batch_size=256,\n",
    "        callbacks=callbacks,\n",
    "        verbose=1\n",
    "    )\n",
    "\n",
    "    # --- Logging for Optuna ---\n",
    "    val_loss = history.history[\"val_loss\"][-1]\n",
    "    trial.set_user_attr(\"val_accuracy\", history.history.get(\"val_accuracy\", [None])[-1])\n",
    "    trial.set_user_attr(\"history\", history.history)\n",
    "\n",
    "    return val_loss\n"
   ]
  },
  {
   "cell_type": "code",
   "execution_count": 24,
   "metadata": {
    "execution": {
     "iopub.execute_input": "2025-06-26T12:45:42.996229Z",
     "iopub.status.busy": "2025-06-26T12:45:42.995485Z",
     "iopub.status.idle": "2025-06-26T13:05:43.384324Z",
     "shell.execute_reply": "2025-06-26T13:05:43.383541Z",
     "shell.execute_reply.started": "2025-06-26T12:45:42.996205Z"
    },
    "trusted": true
   },
   "outputs": [
    {
     "name": "stderr",
     "output_type": "stream",
     "text": [
      "A new study created in memory with name: resnet_tuning\n",
      "[I 2025-06-26 12:45:42,998] A new study created in memory with name: resnet_tuning\n",
      "A new study created in memory with name: resnet_tuning\n",
      "A new study created in memory with name: resnet_tuning\n"
     ]
    },
    {
     "data": {
      "application/vnd.jupyter.widget-view+json": {
       "model_id": "db6edbf7ddc44f8bb0be60e55dc55d05",
       "version_major": 2,
       "version_minor": 0
      },
      "text/plain": [
       "  0%|          | 0/5 [00:00<?, ?it/s]"
      ]
     },
     "metadata": {},
     "output_type": "display_data"
    },
    {
     "name": "stdout",
     "output_type": "stream",
     "text": [
      "Epoch 1/50\n",
      "\u001b[1m114/114\u001b[0m \u001b[32m━━━━━━━━━━━━━━━━━━━━\u001b[0m\u001b[37m\u001b[0m \u001b[1m36s\u001b[0m 160ms/step - accuracy: 0.1952 - loss: 2.3359 - val_accuracy: 0.2312 - val_loss: 1.7005\n",
      "Epoch 2/50\n",
      "\u001b[1m114/114\u001b[0m \u001b[32m━━━━━━━━━━━━━━━━━━━━\u001b[0m\u001b[37m\u001b[0m \u001b[1m7s\u001b[0m 64ms/step - accuracy: 0.2017 - loss: 1.8297 - val_accuracy: 0.2303 - val_loss: 1.6541\n",
      "Epoch 3/50\n",
      "\u001b[1m114/114\u001b[0m \u001b[32m━━━━━━━━━━━━━━━━━━━━\u001b[0m\u001b[37m\u001b[0m \u001b[1m7s\u001b[0m 64ms/step - accuracy: 0.1989 - loss: 1.7652 - val_accuracy: 0.2312 - val_loss: 1.6334\n",
      "Epoch 4/50\n",
      "\u001b[1m114/114\u001b[0m \u001b[32m━━━━━━━━━━━━━━━━━━━━\u001b[0m\u001b[37m\u001b[0m \u001b[1m7s\u001b[0m 65ms/step - accuracy: 0.2081 - loss: 1.7175 - val_accuracy: 0.2312 - val_loss: 1.6259\n",
      "Epoch 5/50\n",
      "\u001b[1m114/114\u001b[0m \u001b[32m━━━━━━━━━━━━━━━━━━━━\u001b[0m\u001b[37m\u001b[0m \u001b[1m7s\u001b[0m 64ms/step - accuracy: 0.2166 - loss: 1.6753 - val_accuracy: 0.2312 - val_loss: 1.6041\n",
      "Epoch 6/50\n",
      "\u001b[1m114/114\u001b[0m \u001b[32m━━━━━━━━━━━━━━━━━━━━\u001b[0m\u001b[37m\u001b[0m \u001b[1m6s\u001b[0m 56ms/step - accuracy: 0.2251 - loss: 1.6568 - val_accuracy: 0.2312 - val_loss: 1.6090\n",
      "Epoch 7/50\n",
      "\u001b[1m114/114\u001b[0m \u001b[32m━━━━━━━━━━━━━━━━━━━━\u001b[0m\u001b[37m\u001b[0m \u001b[1m7s\u001b[0m 64ms/step - accuracy: 0.2321 - loss: 1.6464 - val_accuracy: 0.2293 - val_loss: 1.6022\n",
      "Epoch 8/50\n",
      "\u001b[1m114/114\u001b[0m \u001b[32m━━━━━━━━━━━━━━━━━━━━\u001b[0m\u001b[37m\u001b[0m \u001b[1m6s\u001b[0m 56ms/step - accuracy: 0.2273 - loss: 1.6404 - val_accuracy: 0.2312 - val_loss: 1.6027\n",
      "Epoch 9/50\n",
      "\u001b[1m114/114\u001b[0m \u001b[32m━━━━━━━━━━━━━━━━━━━━\u001b[0m\u001b[37m\u001b[0m \u001b[1m7s\u001b[0m 65ms/step - accuracy: 0.2081 - loss: 1.6437 - val_accuracy: 0.2312 - val_loss: 1.5994\n",
      "Epoch 10/50\n",
      "\u001b[1m114/114\u001b[0m \u001b[32m━━━━━━━━━━━━━━━━━━━━\u001b[0m\u001b[37m\u001b[0m \u001b[1m6s\u001b[0m 56ms/step - accuracy: 0.2259 - loss: 1.6428 - val_accuracy: 0.2428 - val_loss: 1.6006\n",
      "Epoch 11/50\n",
      "\u001b[1m114/114\u001b[0m \u001b[32m━━━━━━━━━━━━━━━━━━━━\u001b[0m\u001b[37m\u001b[0m \u001b[1m7s\u001b[0m 64ms/step - accuracy: 0.2491 - loss: 1.6281 - val_accuracy: 0.2293 - val_loss: 1.5958\n",
      "Epoch 12/50\n",
      "\u001b[1m114/114\u001b[0m \u001b[32m━━━━━━━━━━━━━━━━━━━━\u001b[0m\u001b[37m\u001b[0m \u001b[1m6s\u001b[0m 56ms/step - accuracy: 0.2338 - loss: 1.6245 - val_accuracy: 0.2293 - val_loss: 1.5985\n",
      "Epoch 13/50\n",
      "\u001b[1m114/114\u001b[0m \u001b[32m━━━━━━━━━━━━━━━━━━━━\u001b[0m\u001b[37m\u001b[0m \u001b[1m6s\u001b[0m 56ms/step - accuracy: 0.2296 - loss: 1.6221 - val_accuracy: 0.2312 - val_loss: 1.5984\n",
      "Epoch 14/50\n",
      "\u001b[1m114/114\u001b[0m \u001b[32m━━━━━━━━━━━━━━━━━━━━\u001b[0m\u001b[37m\u001b[0m \u001b[1m6s\u001b[0m 56ms/step - accuracy: 0.2321 - loss: 1.6216 - val_accuracy: 0.2293 - val_loss: 1.5975\n",
      "Epoch 15/50\n",
      "\u001b[1m114/114\u001b[0m \u001b[32m━━━━━━━━━━━━━━━━━━━━\u001b[0m\u001b[37m\u001b[0m \u001b[1m6s\u001b[0m 55ms/step - accuracy: 0.2309 - loss: 1.6194 - val_accuracy: 0.2312 - val_loss: 1.6018\n",
      "Epoch 16/50\n",
      "\u001b[1m114/114\u001b[0m \u001b[32m━━━━━━━━━━━━━━━━━━━━\u001b[0m\u001b[37m\u001b[0m \u001b[1m6s\u001b[0m 55ms/step - accuracy: 0.2465 - loss: 1.6062 - val_accuracy: 0.2312 - val_loss: 1.5968\n",
      "Epoch 17/50\n",
      "\u001b[1m114/114\u001b[0m \u001b[32m━━━━━━━━━━━━━━━━━━━━\u001b[0m\u001b[37m\u001b[0m \u001b[1m7s\u001b[0m 64ms/step - accuracy: 0.2387 - loss: 1.6179 - val_accuracy: 0.2312 - val_loss: 1.5936\n",
      "Epoch 18/50\n",
      "\u001b[1m114/114\u001b[0m \u001b[32m━━━━━━━━━━━━━━━━━━━━\u001b[0m\u001b[37m\u001b[0m \u001b[1m6s\u001b[0m 56ms/step - accuracy: 0.2165 - loss: 1.6202 - val_accuracy: 0.2293 - val_loss: 1.5948\n",
      "Epoch 19/50\n",
      "\u001b[1m114/114\u001b[0m \u001b[32m━━━━━━━━━━━━━━━━━━━━\u001b[0m\u001b[37m\u001b[0m \u001b[1m6s\u001b[0m 56ms/step - accuracy: 0.2070 - loss: 1.6187 - val_accuracy: 0.2293 - val_loss: 1.5978\n",
      "Epoch 20/50\n",
      "\u001b[1m114/114\u001b[0m \u001b[32m━━━━━━━━━━━━━━━━━━━━\u001b[0m\u001b[37m\u001b[0m \u001b[1m6s\u001b[0m 55ms/step - accuracy: 0.2296 - loss: 1.6152 - val_accuracy: 0.2312 - val_loss: 1.5986\n",
      "Epoch 21/50\n",
      "\u001b[1m114/114\u001b[0m \u001b[32m━━━━━━━━━━━━━━━━━━━━\u001b[0m\u001b[37m\u001b[0m \u001b[1m6s\u001b[0m 55ms/step - accuracy: 0.2277 - loss: 1.6129 - val_accuracy: 0.2312 - val_loss: 1.6026\n",
      "Epoch 22/50\n",
      "\u001b[1m114/114\u001b[0m \u001b[32m━━━━━━━━━━━━━━━━━━━━\u001b[0m\u001b[37m\u001b[0m \u001b[1m6s\u001b[0m 55ms/step - accuracy: 0.2256 - loss: 1.6195 - val_accuracy: 0.2312 - val_loss: 1.5997\n",
      "Epoch 23/50\n",
      "\u001b[1m114/114\u001b[0m \u001b[32m━━━━━━━━━━━━━━━━━━━━\u001b[0m\u001b[37m\u001b[0m \u001b[1m6s\u001b[0m 55ms/step - accuracy: 0.2197 - loss: 1.6067 - val_accuracy: 0.2312 - val_loss: 1.6002\n",
      "Epoch 24/50\n",
      "\u001b[1m114/114\u001b[0m \u001b[32m━━━━━━━━━━━━━━━━━━━━\u001b[0m\u001b[37m\u001b[0m \u001b[1m7s\u001b[0m 64ms/step - accuracy: 0.2344 - loss: 1.6155 - val_accuracy: 0.2312 - val_loss: 1.5933\n",
      "Epoch 25/50\n",
      "\u001b[1m114/114\u001b[0m \u001b[32m━━━━━━━━━━━━━━━━━━━━\u001b[0m\u001b[37m\u001b[0m \u001b[1m6s\u001b[0m 54ms/step - accuracy: 0.2320 - loss: 1.6009 - val_accuracy: 0.2293 - val_loss: 1.5941\n",
      "Epoch 26/50\n",
      "\u001b[1m114/114\u001b[0m \u001b[32m━━━━━━━━━━━━━━━━━━━━\u001b[0m\u001b[37m\u001b[0m \u001b[1m6s\u001b[0m 56ms/step - accuracy: 0.2214 - loss: 1.6108 - val_accuracy: 0.3343 - val_loss: 1.5974\n",
      "Epoch 27/50\n",
      "\u001b[1m114/114\u001b[0m \u001b[32m━━━━━━━━━━━━━━━━━━━━\u001b[0m\u001b[37m\u001b[0m \u001b[1m6s\u001b[0m 56ms/step - accuracy: 0.2118 - loss: 1.6113 - val_accuracy: 0.2312 - val_loss: 1.5969\n",
      "Epoch 28/50\n",
      "\u001b[1m114/114\u001b[0m \u001b[32m━━━━━━━━━━━━━━━━━━━━\u001b[0m\u001b[37m\u001b[0m \u001b[1m7s\u001b[0m 65ms/step - accuracy: 0.2281 - loss: 1.6084 - val_accuracy: 0.2312 - val_loss: 1.5926\n",
      "Epoch 29/50\n",
      "\u001b[1m114/114\u001b[0m \u001b[32m━━━━━━━━━━━━━━━━━━━━\u001b[0m\u001b[37m\u001b[0m \u001b[1m6s\u001b[0m 56ms/step - accuracy: 0.2291 - loss: 1.6096 - val_accuracy: 0.2312 - val_loss: 1.5997\n",
      "Epoch 30/50\n",
      "\u001b[1m114/114\u001b[0m \u001b[32m━━━━━━━━━━━━━━━━━━━━\u001b[0m\u001b[37m\u001b[0m \u001b[1m6s\u001b[0m 55ms/step - accuracy: 0.2275 - loss: 1.6143 - val_accuracy: 0.2312 - val_loss: 1.5964\n",
      "Epoch 31/50\n",
      "\u001b[1m114/114\u001b[0m \u001b[32m━━━━━━━━━━━━━━━━━━━━\u001b[0m\u001b[37m\u001b[0m \u001b[1m6s\u001b[0m 55ms/step - accuracy: 0.2307 - loss: 1.6080 - val_accuracy: 0.2312 - val_loss: 1.5946\n",
      "Epoch 32/50\n",
      "\u001b[1m114/114\u001b[0m \u001b[32m━━━━━━━━━━━━━━━━━━━━\u001b[0m\u001b[37m\u001b[0m \u001b[1m6s\u001b[0m 55ms/step - accuracy: 0.2431 - loss: 1.6026 - val_accuracy: 0.2312 - val_loss: 1.5960\n",
      "Epoch 33/50\n",
      "\u001b[1m114/114\u001b[0m \u001b[32m━━━━━━━━━━━━━━━━━━━━\u001b[0m\u001b[37m\u001b[0m \u001b[1m6s\u001b[0m 56ms/step - accuracy: 0.2370 - loss: 1.6021 - val_accuracy: 0.2312 - val_loss: 1.5956\n",
      "Epoch 34/50\n",
      "\u001b[1m114/114\u001b[0m \u001b[32m━━━━━━━━━━━━━━━━━━━━\u001b[0m\u001b[37m\u001b[0m \u001b[1m6s\u001b[0m 55ms/step - accuracy: 0.2287 - loss: 1.6046 - val_accuracy: 0.2293 - val_loss: 1.5986\n",
      "Epoch 35/50\n",
      "\u001b[1m114/114\u001b[0m \u001b[32m━━━━━━━━━━━━━━━━━━━━\u001b[0m\u001b[37m\u001b[0m \u001b[1m6s\u001b[0m 55ms/step - accuracy: 0.2268 - loss: 1.6074 - val_accuracy: 0.2312 - val_loss: 1.5942\n",
      "Epoch 36/50\n",
      "\u001b[1m114/114\u001b[0m \u001b[32m━━━━━━━━━━━━━━━━━━━━\u001b[0m\u001b[37m\u001b[0m \u001b[1m6s\u001b[0m 55ms/step - accuracy: 0.2273 - loss: 1.6055 - val_accuracy: 0.2293 - val_loss: 1.5950\n",
      "Epoch 37/50\n",
      "\u001b[1m114/114\u001b[0m \u001b[32m━━━━━━━━━━━━━━━━━━━━\u001b[0m\u001b[37m\u001b[0m \u001b[1m6s\u001b[0m 55ms/step - accuracy: 0.2240 - loss: 1.6079 - val_accuracy: 0.2312 - val_loss: 1.5942\n",
      "Epoch 38/50\n",
      "\u001b[1m114/114\u001b[0m \u001b[32m━━━━━━━━━━━━━━━━━━━━\u001b[0m\u001b[37m\u001b[0m \u001b[1m6s\u001b[0m 55ms/step - accuracy: 0.2272 - loss: 1.6072 - val_accuracy: 0.2312 - val_loss: 1.5934\n"
     ]
    },
    {
     "name": "stderr",
     "output_type": "stream",
     "text": [
      "Trial 0 finished with value: 1.5933629274368286 and parameters: {'activation': 'parametric relu', 'n_layers': 3, 'n_units': 256, 'optimizer': 'sgd'}. Best is trial 0 with value: 1.5933629274368286.\n",
      "Trial 0 finished with value: 1.5933629274368286 and parameters: {'activation': 'parametric relu', 'n_layers': 3, 'n_units': 256, 'optimizer': 'sgd'}. Best is trial 0 with value: 1.5933629274368286.\n",
      "Trial 0 finished with value: 1.5933629274368286 and parameters: {'activation': 'parametric relu', 'n_layers': 3, 'n_units': 256, 'optimizer': 'sgd'}. Best is trial 0 with value: 1.5933629274368286.\n"
     ]
    },
    {
     "name": "stdout",
     "output_type": "stream",
     "text": [
      "[I 2025-06-26 12:50:24,227] Trial 0 finished with value: 1.5933629274368286 and parameters: {'activation': 'parametric relu', 'n_layers': 3, 'n_units': 256, 'optimizer': 'sgd'}. Best is trial 0 with value: 1.5933629274368286.\n",
      "Epoch 1/50\n",
      "\u001b[1m114/114\u001b[0m \u001b[32m━━━━━━━━━━━━━━━━━━━━\u001b[0m\u001b[37m\u001b[0m \u001b[1m29s\u001b[0m 144ms/step - accuracy: 0.2004 - loss: 2.1596 - val_accuracy: 0.2312 - val_loss: 1.6731\n",
      "Epoch 2/50\n",
      "\u001b[1m114/114\u001b[0m \u001b[32m━━━━━━━━━━━━━━━━━━━━\u001b[0m\u001b[37m\u001b[0m \u001b[1m7s\u001b[0m 63ms/step - accuracy: 0.2005 - loss: 1.7896 - val_accuracy: 0.2293 - val_loss: 1.6215\n",
      "Epoch 3/50\n",
      "\u001b[1m114/114\u001b[0m \u001b[32m━━━━━━━━━━━━━━━━━━━━\u001b[0m\u001b[37m\u001b[0m \u001b[1m7s\u001b[0m 64ms/step - accuracy: 0.2173 - loss: 1.7208 - val_accuracy: 0.2312 - val_loss: 1.6062\n",
      "Epoch 4/50\n",
      "\u001b[1m114/114\u001b[0m \u001b[32m━━━━━━━━━━━━━━━━━━━━\u001b[0m\u001b[37m\u001b[0m \u001b[1m7s\u001b[0m 63ms/step - accuracy: 0.2074 - loss: 1.6936 - val_accuracy: 0.2312 - val_loss: 1.6051\n",
      "Epoch 5/50\n",
      "\u001b[1m114/114\u001b[0m \u001b[32m━━━━━━━━━━━━━━━━━━━━\u001b[0m\u001b[37m\u001b[0m \u001b[1m7s\u001b[0m 63ms/step - accuracy: 0.2156 - loss: 1.6712 - val_accuracy: 0.2312 - val_loss: 1.6039\n",
      "Epoch 6/50\n",
      "\u001b[1m114/114\u001b[0m \u001b[32m━━━━━━━━━━━━━━━━━━━━\u001b[0m\u001b[37m\u001b[0m \u001b[1m6s\u001b[0m 55ms/step - accuracy: 0.2266 - loss: 1.6468 - val_accuracy: 0.2312 - val_loss: 1.6221\n",
      "Epoch 7/50\n",
      "\u001b[1m114/114\u001b[0m \u001b[32m━━━━━━━━━━━━━━━━━━━━\u001b[0m\u001b[37m\u001b[0m \u001b[1m7s\u001b[0m 63ms/step - accuracy: 0.2317 - loss: 1.6466 - val_accuracy: 0.2312 - val_loss: 1.6018\n",
      "Epoch 8/50\n",
      "\u001b[1m114/114\u001b[0m \u001b[32m━━━━━━━━━━━━━━━━━━━━\u001b[0m\u001b[37m\u001b[0m \u001b[1m6s\u001b[0m 55ms/step - accuracy: 0.2393 - loss: 1.6251 - val_accuracy: 0.2312 - val_loss: 1.6049\n",
      "Epoch 9/50\n",
      "\u001b[1m114/114\u001b[0m \u001b[32m━━━━━━━━━━━━━━━━━━━━\u001b[0m\u001b[37m\u001b[0m \u001b[1m7s\u001b[0m 63ms/step - accuracy: 0.2263 - loss: 1.6427 - val_accuracy: 0.2293 - val_loss: 1.5992\n",
      "Epoch 10/50\n",
      "\u001b[1m114/114\u001b[0m \u001b[32m━━━━━━━━━━━━━━━━━━━━\u001b[0m\u001b[37m\u001b[0m \u001b[1m7s\u001b[0m 63ms/step - accuracy: 0.2161 - loss: 1.6303 - val_accuracy: 0.2293 - val_loss: 1.5945\n",
      "Epoch 11/50\n",
      "\u001b[1m114/114\u001b[0m \u001b[32m━━━━━━━━━━━━━━━━━━━━\u001b[0m\u001b[37m\u001b[0m \u001b[1m6s\u001b[0m 55ms/step - accuracy: 0.2148 - loss: 1.6317 - val_accuracy: 0.2293 - val_loss: 1.5971\n",
      "Epoch 12/50\n",
      "\u001b[1m114/114\u001b[0m \u001b[32m━━━━━━━━━━━━━━━━━━━━\u001b[0m\u001b[37m\u001b[0m \u001b[1m7s\u001b[0m 62ms/step - accuracy: 0.2201 - loss: 1.6255 - val_accuracy: 0.2312 - val_loss: 1.5945\n",
      "Epoch 13/50\n",
      "\u001b[1m114/114\u001b[0m \u001b[32m━━━━━━━━━━━━━━━━━━━━\u001b[0m\u001b[37m\u001b[0m \u001b[1m6s\u001b[0m 54ms/step - accuracy: 0.2330 - loss: 1.6162 - val_accuracy: 0.2312 - val_loss: 1.6030\n",
      "Epoch 14/50\n",
      "\u001b[1m114/114\u001b[0m \u001b[32m━━━━━━━━━━━━━━━━━━━━\u001b[0m\u001b[37m\u001b[0m \u001b[1m6s\u001b[0m 54ms/step - accuracy: 0.2137 - loss: 1.6239 - val_accuracy: 0.2312 - val_loss: 1.5945\n",
      "Epoch 15/50\n",
      "\u001b[1m114/114\u001b[0m \u001b[32m━━━━━━━━━━━━━━━━━━━━\u001b[0m\u001b[37m\u001b[0m \u001b[1m6s\u001b[0m 55ms/step - accuracy: 0.2404 - loss: 1.6162 - val_accuracy: 0.2293 - val_loss: 1.5970\n",
      "Epoch 16/50\n",
      "\u001b[1m114/114\u001b[0m \u001b[32m━━━━━━━━━━━━━━━━━━━━\u001b[0m\u001b[37m\u001b[0m \u001b[1m6s\u001b[0m 54ms/step - accuracy: 0.2284 - loss: 1.6234 - val_accuracy: 0.2293 - val_loss: 1.5963\n",
      "Epoch 17/50\n",
      "\u001b[1m114/114\u001b[0m \u001b[32m━━━━━━━━━━━━━━━━━━━━\u001b[0m\u001b[37m\u001b[0m \u001b[1m6s\u001b[0m 54ms/step - accuracy: 0.2228 - loss: 1.6210 - val_accuracy: 0.2312 - val_loss: 1.6066\n",
      "Epoch 18/50\n",
      "\u001b[1m114/114\u001b[0m \u001b[32m━━━━━━━━━━━━━━━━━━━━\u001b[0m\u001b[37m\u001b[0m \u001b[1m7s\u001b[0m 62ms/step - accuracy: 0.2208 - loss: 1.6165 - val_accuracy: 0.2312 - val_loss: 1.5928\n",
      "Epoch 19/50\n",
      "\u001b[1m114/114\u001b[0m \u001b[32m━━━━━━━━━━━━━━━━━━━━\u001b[0m\u001b[37m\u001b[0m \u001b[1m6s\u001b[0m 54ms/step - accuracy: 0.2181 - loss: 1.6159 - val_accuracy: 0.2312 - val_loss: 1.5969\n",
      "Epoch 20/50\n",
      "\u001b[1m114/114\u001b[0m \u001b[32m━━━━━━━━━━━━━━━━━━━━\u001b[0m\u001b[37m\u001b[0m \u001b[1m6s\u001b[0m 54ms/step - accuracy: 0.2499 - loss: 1.6030 - val_accuracy: 0.2312 - val_loss: 1.5962\n",
      "Epoch 21/50\n",
      "\u001b[1m114/114\u001b[0m \u001b[32m━━━━━━━━━━━━━━━━━━━━\u001b[0m\u001b[37m\u001b[0m \u001b[1m6s\u001b[0m 54ms/step - accuracy: 0.2271 - loss: 1.6091 - val_accuracy: 0.2312 - val_loss: 1.5997\n",
      "Epoch 22/50\n",
      "\u001b[1m114/114\u001b[0m \u001b[32m━━━━━━━━━━━━━━━━━━━━\u001b[0m\u001b[37m\u001b[0m \u001b[1m6s\u001b[0m 54ms/step - accuracy: 0.2210 - loss: 1.6154 - val_accuracy: 0.2312 - val_loss: 1.5943\n",
      "Epoch 23/50\n",
      "\u001b[1m114/114\u001b[0m \u001b[32m━━━━━━━━━━━━━━━━━━━━\u001b[0m\u001b[37m\u001b[0m \u001b[1m6s\u001b[0m 54ms/step - accuracy: 0.2375 - loss: 1.6095 - val_accuracy: 0.2312 - val_loss: 1.5948\n",
      "Epoch 24/50\n",
      "\u001b[1m114/114\u001b[0m \u001b[32m━━━━━━━━━━━━━━━━━━━━\u001b[0m\u001b[37m\u001b[0m \u001b[1m6s\u001b[0m 55ms/step - accuracy: 0.2216 - loss: 1.6131 - val_accuracy: 0.2312 - val_loss: 1.5932\n",
      "Epoch 25/50\n",
      "\u001b[1m114/114\u001b[0m \u001b[32m━━━━━━━━━━━━━━━━━━━━\u001b[0m\u001b[37m\u001b[0m \u001b[1m6s\u001b[0m 54ms/step - accuracy: 0.2198 - loss: 1.6168 - val_accuracy: 0.2312 - val_loss: 1.5943\n",
      "Epoch 26/50\n",
      "\u001b[1m114/114\u001b[0m \u001b[32m━━━━━━━━━━━━━━━━━━━━\u001b[0m\u001b[37m\u001b[0m \u001b[1m6s\u001b[0m 55ms/step - accuracy: 0.2136 - loss: 1.6155 - val_accuracy: 0.2312 - val_loss: 1.5969\n",
      "Epoch 27/50\n",
      "\u001b[1m114/114\u001b[0m \u001b[32m━━━━━━━━━━━━━━━━━━━━\u001b[0m\u001b[37m\u001b[0m \u001b[1m6s\u001b[0m 54ms/step - accuracy: 0.2472 - loss: 1.6020 - val_accuracy: 0.2293 - val_loss: 1.5979\n",
      "Epoch 28/50\n",
      "\u001b[1m114/114\u001b[0m \u001b[32m━━━━━━━━━━━━━━━━━━━━\u001b[0m\u001b[37m\u001b[0m \u001b[1m6s\u001b[0m 54ms/step - accuracy: 0.2396 - loss: 1.6059 - val_accuracy: 0.2312 - val_loss: 1.5932\n"
     ]
    },
    {
     "name": "stderr",
     "output_type": "stream",
     "text": [
      "Trial 1 finished with value: 1.5931649208068848 and parameters: {'activation': 'relu', 'n_layers': 2, 'n_units': 256, 'optimizer': 'sgd'}. Best is trial 1 with value: 1.5931649208068848.\n",
      "Trial 1 finished with value: 1.5931649208068848 and parameters: {'activation': 'relu', 'n_layers': 2, 'n_units': 256, 'optimizer': 'sgd'}. Best is trial 1 with value: 1.5931649208068848.\n",
      "Trial 1 finished with value: 1.5931649208068848 and parameters: {'activation': 'relu', 'n_layers': 2, 'n_units': 256, 'optimizer': 'sgd'}. Best is trial 1 with value: 1.5931649208068848.\n"
     ]
    },
    {
     "name": "stdout",
     "output_type": "stream",
     "text": [
      "[I 2025-06-26 12:53:50,693] Trial 1 finished with value: 1.5931649208068848 and parameters: {'activation': 'relu', 'n_layers': 2, 'n_units': 256, 'optimizer': 'sgd'}. Best is trial 1 with value: 1.5931649208068848.\n",
      "Epoch 1/50\n",
      "\u001b[1m114/114\u001b[0m \u001b[32m━━━━━━━━━━━━━━━━━━━━\u001b[0m\u001b[37m\u001b[0m \u001b[1m28s\u001b[0m 141ms/step - accuracy: 0.2171 - loss: 1.9868 - val_accuracy: 0.2312 - val_loss: 1.6260\n",
      "Epoch 2/50\n",
      "\u001b[1m114/114\u001b[0m \u001b[32m━━━━━━━━━━━━━━━━━━━━\u001b[0m\u001b[37m\u001b[0m \u001b[1m7s\u001b[0m 62ms/step - accuracy: 0.2410 - loss: 1.6591 - val_accuracy: 0.2293 - val_loss: 1.6056\n",
      "Epoch 3/50\n",
      "\u001b[1m114/114\u001b[0m \u001b[32m━━━━━━━━━━━━━━━━━━━━\u001b[0m\u001b[37m\u001b[0m \u001b[1m6s\u001b[0m 54ms/step - accuracy: 0.2190 - loss: 1.6409 - val_accuracy: 0.2312 - val_loss: 1.6162\n",
      "Epoch 4/50\n",
      "\u001b[1m114/114\u001b[0m \u001b[32m━━━━━━━━━━━━━━━━━━━━\u001b[0m\u001b[37m\u001b[0m \u001b[1m7s\u001b[0m 63ms/step - accuracy: 0.2254 - loss: 1.6246 - val_accuracy: 0.2312 - val_loss: 1.6025\n",
      "Epoch 5/50\n",
      "\u001b[1m114/114\u001b[0m \u001b[32m━━━━━━━━━━━━━━━━━━━━\u001b[0m\u001b[37m\u001b[0m \u001b[1m7s\u001b[0m 62ms/step - accuracy: 0.2278 - loss: 1.6196 - val_accuracy: 0.2293 - val_loss: 1.5956\n",
      "Epoch 6/50\n",
      "\u001b[1m114/114\u001b[0m \u001b[32m━━━━━━━━━━━━━━━━━━━━\u001b[0m\u001b[37m\u001b[0m \u001b[1m7s\u001b[0m 62ms/step - accuracy: 0.2394 - loss: 1.6213 - val_accuracy: 0.2312 - val_loss: 1.5947\n",
      "Epoch 7/50\n",
      "\u001b[1m114/114\u001b[0m \u001b[32m━━━━━━━━━━━━━━━━━━━━\u001b[0m\u001b[37m\u001b[0m \u001b[1m6s\u001b[0m 54ms/step - accuracy: 0.2213 - loss: 1.6147 - val_accuracy: 0.2312 - val_loss: 1.6079\n",
      "Epoch 8/50\n",
      "\u001b[1m114/114\u001b[0m \u001b[32m━━━━━━━━━━━━━━━━━━━━\u001b[0m\u001b[37m\u001b[0m \u001b[1m6s\u001b[0m 54ms/step - accuracy: 0.2259 - loss: 1.6198 - val_accuracy: 0.2293 - val_loss: 1.5984\n",
      "Epoch 9/50\n",
      "\u001b[1m114/114\u001b[0m \u001b[32m━━━━━━━━━━━━━━━━━━━━\u001b[0m\u001b[37m\u001b[0m \u001b[1m6s\u001b[0m 54ms/step - accuracy: 0.2240 - loss: 1.6122 - val_accuracy: 0.2312 - val_loss: 1.6031\n",
      "Epoch 10/50\n",
      "\u001b[1m114/114\u001b[0m \u001b[32m━━━━━━━━━━━━━━━━━━━━\u001b[0m\u001b[37m\u001b[0m \u001b[1m6s\u001b[0m 54ms/step - accuracy: 0.2399 - loss: 1.6254 - val_accuracy: 0.2312 - val_loss: 1.6058\n",
      "Epoch 11/50\n",
      "\u001b[1m114/114\u001b[0m \u001b[32m━━━━━━━━━━━━━━━━━━━━\u001b[0m\u001b[37m\u001b[0m \u001b[1m6s\u001b[0m 54ms/step - accuracy: 0.2379 - loss: 1.6136 - val_accuracy: 0.2293 - val_loss: 1.6012\n",
      "Epoch 12/50\n",
      "\u001b[1m114/114\u001b[0m \u001b[32m━━━━━━━━━━━━━━━━━━━━\u001b[0m\u001b[37m\u001b[0m \u001b[1m6s\u001b[0m 54ms/step - accuracy: 0.2408 - loss: 1.6066 - val_accuracy: 0.2312 - val_loss: 1.5994\n",
      "Epoch 13/50\n",
      "\u001b[1m114/114\u001b[0m \u001b[32m━━━━━━━━━━━━━━━━━━━━\u001b[0m\u001b[37m\u001b[0m \u001b[1m6s\u001b[0m 54ms/step - accuracy: 0.2360 - loss: 1.6098 - val_accuracy: 0.2293 - val_loss: 1.6006\n",
      "Epoch 14/50\n",
      "\u001b[1m114/114\u001b[0m \u001b[32m━━━━━━━━━━━━━━━━━━━━\u001b[0m\u001b[37m\u001b[0m \u001b[1m6s\u001b[0m 54ms/step - accuracy: 0.2216 - loss: 1.6004 - val_accuracy: 0.2293 - val_loss: 1.6001\n",
      "Epoch 15/50\n",
      "\u001b[1m114/114\u001b[0m \u001b[32m━━━━━━━━━━━━━━━━━━━━\u001b[0m\u001b[37m\u001b[0m \u001b[1m7s\u001b[0m 63ms/step - accuracy: 0.2094 - loss: 1.6143 - val_accuracy: 0.2312 - val_loss: 1.5926\n",
      "Epoch 16/50\n",
      "\u001b[1m114/114\u001b[0m \u001b[32m━━━━━━━━━━━━━━━━━━━━\u001b[0m\u001b[37m\u001b[0m \u001b[1m6s\u001b[0m 54ms/step - accuracy: 0.2258 - loss: 1.6103 - val_accuracy: 0.2312 - val_loss: 1.6049\n",
      "Epoch 17/50\n",
      "\u001b[1m114/114\u001b[0m \u001b[32m━━━━━━━━━━━━━━━━━━━━\u001b[0m\u001b[37m\u001b[0m \u001b[1m6s\u001b[0m 54ms/step - accuracy: 0.2285 - loss: 1.6071 - val_accuracy: 0.2312 - val_loss: 1.5971\n",
      "Epoch 18/50\n",
      "\u001b[1m114/114\u001b[0m \u001b[32m━━━━━━━━━━━━━━━━━━━━\u001b[0m\u001b[37m\u001b[0m \u001b[1m6s\u001b[0m 53ms/step - accuracy: 0.2282 - loss: 1.6103 - val_accuracy: 0.2312 - val_loss: 1.6070\n",
      "Epoch 19/50\n",
      "\u001b[1m114/114\u001b[0m \u001b[32m━━━━━━━━━━━━━━━━━━━━\u001b[0m\u001b[37m\u001b[0m \u001b[1m6s\u001b[0m 53ms/step - accuracy: 0.2312 - loss: 1.6100 - val_accuracy: 0.2293 - val_loss: 1.6070\n",
      "Epoch 20/50\n",
      "\u001b[1m114/114\u001b[0m \u001b[32m━━━━━━━━━━━━━━━━━━━━\u001b[0m\u001b[37m\u001b[0m \u001b[1m6s\u001b[0m 54ms/step - accuracy: 0.2437 - loss: 1.6012 - val_accuracy: 0.2293 - val_loss: 1.5955\n",
      "Epoch 21/50\n",
      "\u001b[1m114/114\u001b[0m \u001b[32m━━━━━━━━━━━━━━━━━━━━\u001b[0m\u001b[37m\u001b[0m \u001b[1m6s\u001b[0m 54ms/step - accuracy: 0.2217 - loss: 1.6045 - val_accuracy: 0.2293 - val_loss: 1.6113\n",
      "Epoch 22/50\n",
      "\u001b[1m114/114\u001b[0m \u001b[32m━━━━━━━━━━━━━━━━━━━━\u001b[0m\u001b[37m\u001b[0m \u001b[1m6s\u001b[0m 54ms/step - accuracy: 0.2265 - loss: 1.6040 - val_accuracy: 0.2293 - val_loss: 1.5944\n",
      "Epoch 23/50\n",
      "\u001b[1m114/114\u001b[0m \u001b[32m━━━━━━━━━━━━━━━━━━━━\u001b[0m\u001b[37m\u001b[0m \u001b[1m6s\u001b[0m 54ms/step - accuracy: 0.2335 - loss: 1.6072 - val_accuracy: 0.2312 - val_loss: 1.6002\n",
      "Epoch 24/50\n",
      "\u001b[1m114/114\u001b[0m \u001b[32m━━━━━━━━━━━━━━━━━━━━\u001b[0m\u001b[37m\u001b[0m \u001b[1m6s\u001b[0m 53ms/step - accuracy: 0.2211 - loss: 1.6088 - val_accuracy: 0.2312 - val_loss: 1.6074\n",
      "Epoch 25/50\n",
      "\u001b[1m114/114\u001b[0m \u001b[32m━━━━━━━━━━━━━━━━━━━━\u001b[0m\u001b[37m\u001b[0m \u001b[1m6s\u001b[0m 54ms/step - accuracy: 0.2221 - loss: 1.6121 - val_accuracy: 0.2312 - val_loss: 1.5963\n"
     ]
    },
    {
     "name": "stderr",
     "output_type": "stream",
     "text": [
      "Trial 2 finished with value: 1.5962584018707275 and parameters: {'activation': 'relu', 'n_layers': 1, 'n_units': 256, 'optimizer': 'sgd'}. Best is trial 1 with value: 1.5931649208068848.\n",
      "Trial 2 finished with value: 1.5962584018707275 and parameters: {'activation': 'relu', 'n_layers': 1, 'n_units': 256, 'optimizer': 'sgd'}. Best is trial 1 with value: 1.5931649208068848.\n",
      "Trial 2 finished with value: 1.5962584018707275 and parameters: {'activation': 'relu', 'n_layers': 1, 'n_units': 256, 'optimizer': 'sgd'}. Best is trial 1 with value: 1.5931649208068848.\n"
     ]
    },
    {
     "name": "stdout",
     "output_type": "stream",
     "text": [
      "[I 2025-06-26 12:56:51,960] Trial 2 finished with value: 1.5962584018707275 and parameters: {'activation': 'relu', 'n_layers': 1, 'n_units': 256, 'optimizer': 'sgd'}. Best is trial 1 with value: 1.5931649208068848.\n",
      "Epoch 1/50\n",
      "\u001b[1m114/114\u001b[0m \u001b[32m━━━━━━━━━━━━━━━━━━━━\u001b[0m\u001b[37m\u001b[0m \u001b[1m31s\u001b[0m 152ms/step - accuracy: 0.1582 - loss: 2.5073 - val_accuracy: 0.2312 - val_loss: 1.8038\n",
      "Epoch 2/50\n",
      "\u001b[1m114/114\u001b[0m \u001b[32m━━━━━━━━━━━━━━━━━━━━\u001b[0m\u001b[37m\u001b[0m \u001b[1m7s\u001b[0m 62ms/step - accuracy: 0.2077 - loss: 1.8482 - val_accuracy: 0.2293 - val_loss: 1.6850\n",
      "Epoch 3/50\n",
      "\u001b[1m114/114\u001b[0m \u001b[32m━━━━━━━━━━━━━━━━━━━━\u001b[0m\u001b[37m\u001b[0m \u001b[1m7s\u001b[0m 62ms/step - accuracy: 0.2233 - loss: 1.7319 - val_accuracy: 0.2293 - val_loss: 1.6122\n",
      "Epoch 4/50\n",
      "\u001b[1m114/114\u001b[0m \u001b[32m━━━━━━━━━━━━━━━━━━━━\u001b[0m\u001b[37m\u001b[0m \u001b[1m6s\u001b[0m 54ms/step - accuracy: 0.2176 - loss: 1.6848 - val_accuracy: 0.2312 - val_loss: 1.6136\n",
      "Epoch 5/50\n",
      "\u001b[1m114/114\u001b[0m \u001b[32m━━━━━━━━━━━━━━━━━━━━\u001b[0m\u001b[37m\u001b[0m \u001b[1m7s\u001b[0m 62ms/step - accuracy: 0.2150 - loss: 1.6579 - val_accuracy: 0.2312 - val_loss: 1.6008\n",
      "Epoch 6/50\n",
      "\u001b[1m114/114\u001b[0m \u001b[32m━━━━━━━━━━━━━━━━━━━━\u001b[0m\u001b[37m\u001b[0m \u001b[1m7s\u001b[0m 63ms/step - accuracy: 0.2311 - loss: 1.6314 - val_accuracy: 0.2312 - val_loss: 1.5963\n",
      "Epoch 7/50\n",
      "\u001b[1m114/114\u001b[0m \u001b[32m━━━━━━━━━━━━━━━━━━━━\u001b[0m\u001b[37m\u001b[0m \u001b[1m6s\u001b[0m 54ms/step - accuracy: 0.2378 - loss: 1.6123 - val_accuracy: 0.2312 - val_loss: 1.5966\n",
      "Epoch 8/50\n",
      "\u001b[1m114/114\u001b[0m \u001b[32m━━━━━━━━━━━━━━━━━━━━\u001b[0m\u001b[37m\u001b[0m \u001b[1m7s\u001b[0m 62ms/step - accuracy: 0.2397 - loss: 1.6184 - val_accuracy: 0.2312 - val_loss: 1.5931\n",
      "Epoch 9/50\n",
      "\u001b[1m114/114\u001b[0m \u001b[32m━━━━━━━━━━━━━━━━━━━━\u001b[0m\u001b[37m\u001b[0m \u001b[1m7s\u001b[0m 63ms/step - accuracy: 0.2274 - loss: 1.6162 - val_accuracy: 0.2312 - val_loss: 1.5930\n",
      "Epoch 10/50\n",
      "\u001b[1m114/114\u001b[0m \u001b[32m━━━━━━━━━━━━━━━━━━━━\u001b[0m\u001b[37m\u001b[0m \u001b[1m6s\u001b[0m 54ms/step - accuracy: 0.2265 - loss: 1.6062 - val_accuracy: 0.2312 - val_loss: 1.5932\n",
      "Epoch 11/50\n",
      "\u001b[1m114/114\u001b[0m \u001b[32m━━━━━━━━━━━━━━━━━━━━\u001b[0m\u001b[37m\u001b[0m \u001b[1m7s\u001b[0m 63ms/step - accuracy: 0.2340 - loss: 1.5979 - val_accuracy: 0.2312 - val_loss: 1.5924\n",
      "Epoch 12/50\n",
      "\u001b[1m114/114\u001b[0m \u001b[32m━━━━━━━━━━━━━━━━━━━━\u001b[0m\u001b[37m\u001b[0m \u001b[1m7s\u001b[0m 63ms/step - accuracy: 0.2045 - loss: 1.6003 - val_accuracy: 0.2312 - val_loss: 1.5922\n",
      "Epoch 13/50\n",
      "\u001b[1m114/114\u001b[0m \u001b[32m━━━━━━━━━━━━━━━━━━━━\u001b[0m\u001b[37m\u001b[0m \u001b[1m7s\u001b[0m 63ms/step - accuracy: 0.2096 - loss: 1.6120 - val_accuracy: 0.2312 - val_loss: 1.5918\n",
      "Epoch 14/50\n",
      "\u001b[1m114/114\u001b[0m \u001b[32m━━━━━━━━━━━━━━━━━━━━\u001b[0m\u001b[37m\u001b[0m \u001b[1m6s\u001b[0m 55ms/step - accuracy: 0.2420 - loss: 1.5903 - val_accuracy: 0.2312 - val_loss: 1.5933\n",
      "Epoch 15/50\n",
      "\u001b[1m114/114\u001b[0m \u001b[32m━━━━━━━━━━━━━━━━━━━━\u001b[0m\u001b[37m\u001b[0m \u001b[1m6s\u001b[0m 54ms/step - accuracy: 0.2359 - loss: 1.5993 - val_accuracy: 0.2312 - val_loss: 1.5924\n",
      "Epoch 16/50\n",
      "\u001b[1m114/114\u001b[0m \u001b[32m━━━━━━━━━━━━━━━━━━━━\u001b[0m\u001b[37m\u001b[0m \u001b[1m6s\u001b[0m 55ms/step - accuracy: 0.2337 - loss: 1.6021 - val_accuracy: 0.2312 - val_loss: 1.5918\n",
      "Epoch 17/50\n",
      "\u001b[1m114/114\u001b[0m \u001b[32m━━━━━━━━━━━━━━━━━━━━\u001b[0m\u001b[37m\u001b[0m \u001b[1m6s\u001b[0m 55ms/step - accuracy: 0.2326 - loss: 1.5992 - val_accuracy: 0.2312 - val_loss: 1.5924\n",
      "Epoch 18/50\n",
      "\u001b[1m114/114\u001b[0m \u001b[32m━━━━━━━━━━━━━━━━━━━━\u001b[0m\u001b[37m\u001b[0m \u001b[1m6s\u001b[0m 54ms/step - accuracy: 0.2344 - loss: 1.5984 - val_accuracy: 0.2312 - val_loss: 1.5934\n",
      "Epoch 19/50\n",
      "\u001b[1m114/114\u001b[0m \u001b[32m━━━━━━━━━━━━━━━━━━━━\u001b[0m\u001b[37m\u001b[0m \u001b[1m6s\u001b[0m 54ms/step - accuracy: 0.2251 - loss: 1.6014 - val_accuracy: 0.2312 - val_loss: 1.5925\n",
      "Epoch 20/50\n",
      "\u001b[1m114/114\u001b[0m \u001b[32m━━━━━━━━━━━━━━━━━━━━\u001b[0m\u001b[37m\u001b[0m \u001b[1m6s\u001b[0m 55ms/step - accuracy: 0.2310 - loss: 1.5991 - val_accuracy: 0.2312 - val_loss: 1.5921\n",
      "Epoch 21/50\n",
      "\u001b[1m114/114\u001b[0m \u001b[32m━━━━━━━━━━━━━━━━━━━━\u001b[0m\u001b[37m\u001b[0m \u001b[1m6s\u001b[0m 54ms/step - accuracy: 0.2339 - loss: 1.6007 - val_accuracy: 0.2312 - val_loss: 1.5925\n",
      "Epoch 22/50\n",
      "\u001b[1m114/114\u001b[0m \u001b[32m━━━━━━━━━━━━━━━━━━━━\u001b[0m\u001b[37m\u001b[0m \u001b[1m6s\u001b[0m 55ms/step - accuracy: 0.2290 - loss: 1.5996 - val_accuracy: 0.2293 - val_loss: 1.5926\n",
      "Epoch 23/50\n",
      "\u001b[1m114/114\u001b[0m \u001b[32m━━━━━━━━━━━━━━━━━━━━\u001b[0m\u001b[37m\u001b[0m \u001b[1m6s\u001b[0m 54ms/step - accuracy: 0.2462 - loss: 1.5995 - val_accuracy: 0.2312 - val_loss: 1.5925\n"
     ]
    },
    {
     "name": "stderr",
     "output_type": "stream",
     "text": [
      "Trial 3 finished with value: 1.592504858970642 and parameters: {'activation': 'relu', 'n_layers': 3, 'n_units': 64, 'optimizer': 'adam'}. Best is trial 3 with value: 1.592504858970642.\n",
      "Trial 3 finished with value: 1.592504858970642 and parameters: {'activation': 'relu', 'n_layers': 3, 'n_units': 64, 'optimizer': 'adam'}. Best is trial 3 with value: 1.592504858970642.\n",
      "Trial 3 finished with value: 1.592504858970642 and parameters: {'activation': 'relu', 'n_layers': 3, 'n_units': 64, 'optimizer': 'adam'}. Best is trial 3 with value: 1.592504858970642.\n"
     ]
    },
    {
     "name": "stdout",
     "output_type": "stream",
     "text": [
      "[I 2025-06-26 12:59:49,215] Trial 3 finished with value: 1.592504858970642 and parameters: {'activation': 'relu', 'n_layers': 3, 'n_units': 64, 'optimizer': 'adam'}. Best is trial 3 with value: 1.592504858970642.\n",
      "Epoch 1/50\n",
      "\u001b[1m114/114\u001b[0m \u001b[32m━━━━━━━━━━━━━━━━━━━━\u001b[0m\u001b[37m\u001b[0m \u001b[1m30s\u001b[0m 142ms/step - accuracy: 0.1607 - loss: 2.3730 - val_accuracy: 0.2312 - val_loss: 1.6340\n",
      "Epoch 2/50\n",
      "\u001b[1m114/114\u001b[0m \u001b[32m━━━━━━━━━━━━━━━━━━━━\u001b[0m\u001b[37m\u001b[0m \u001b[1m7s\u001b[0m 63ms/step - accuracy: 0.2151 - loss: 1.7626 - val_accuracy: 0.2293 - val_loss: 1.6283\n",
      "Epoch 3/50\n",
      "\u001b[1m114/114\u001b[0m \u001b[32m━━━━━━━━━━━━━━━━━━━━\u001b[0m\u001b[37m\u001b[0m \u001b[1m7s\u001b[0m 63ms/step - accuracy: 0.2137 - loss: 1.6925 - val_accuracy: 0.4355 - val_loss: 1.5944\n",
      "Epoch 4/50\n",
      "\u001b[1m114/114\u001b[0m \u001b[32m━━━━━━━━━━━━━━━━━━━━\u001b[0m\u001b[37m\u001b[0m \u001b[1m6s\u001b[0m 54ms/step - accuracy: 0.2280 - loss: 1.6610 - val_accuracy: 0.2322 - val_loss: 1.5946\n",
      "Epoch 5/50\n",
      "\u001b[1m114/114\u001b[0m \u001b[32m━━━━━━━━━━━━━━━━━━━━\u001b[0m\u001b[37m\u001b[0m \u001b[1m7s\u001b[0m 63ms/step - accuracy: 0.2258 - loss: 1.6453 - val_accuracy: 0.2399 - val_loss: 1.5939\n",
      "Epoch 6/50\n",
      "\u001b[1m114/114\u001b[0m \u001b[32m━━━━━━━━━━━━━━━━━━━━\u001b[0m\u001b[37m\u001b[0m \u001b[1m7s\u001b[0m 62ms/step - accuracy: 0.2141 - loss: 1.6442 - val_accuracy: 0.2312 - val_loss: 1.5895\n",
      "Epoch 7/50\n",
      "\u001b[1m114/114\u001b[0m \u001b[32m━━━━━━━━━━━━━━━━━━━━\u001b[0m\u001b[37m\u001b[0m \u001b[1m6s\u001b[0m 54ms/step - accuracy: 0.2469 - loss: 1.6109 - val_accuracy: 0.2312 - val_loss: 1.5931\n",
      "Epoch 8/50\n",
      "\u001b[1m114/114\u001b[0m \u001b[32m━━━━━━━━━━━━━━━━━━━━\u001b[0m\u001b[37m\u001b[0m \u001b[1m6s\u001b[0m 54ms/step - accuracy: 0.2317 - loss: 1.6128 - val_accuracy: 0.2707 - val_loss: 1.5895\n",
      "Epoch 9/50\n",
      "\u001b[1m114/114\u001b[0m \u001b[32m━━━━━━━━━━━━━━━━━━━━\u001b[0m\u001b[37m\u001b[0m \u001b[1m7s\u001b[0m 63ms/step - accuracy: 0.2456 - loss: 1.6058 - val_accuracy: 0.3863 - val_loss: 1.5864\n",
      "Epoch 10/50\n",
      "\u001b[1m114/114\u001b[0m \u001b[32m━━━━━━━━━━━━━━━━━━━━\u001b[0m\u001b[37m\u001b[0m \u001b[1m7s\u001b[0m 63ms/step - accuracy: 0.2540 - loss: 1.6076 - val_accuracy: 0.3613 - val_loss: 1.5802\n",
      "Epoch 11/50\n",
      "\u001b[1m114/114\u001b[0m \u001b[32m━━━━━━━━━━━━━━━━━━━━\u001b[0m\u001b[37m\u001b[0m \u001b[1m7s\u001b[0m 63ms/step - accuracy: 0.2485 - loss: 1.6005 - val_accuracy: 0.2331 - val_loss: 1.5800\n",
      "Epoch 12/50\n",
      "\u001b[1m114/114\u001b[0m \u001b[32m━━━━━━━━━━━━━━━━━━━━\u001b[0m\u001b[37m\u001b[0m \u001b[1m7s\u001b[0m 63ms/step - accuracy: 0.2718 - loss: 1.5888 - val_accuracy: 0.3940 - val_loss: 1.5639\n",
      "Epoch 13/50\n",
      "\u001b[1m114/114\u001b[0m \u001b[32m━━━━━━━━━━━━━━━━━━━━\u001b[0m\u001b[37m\u001b[0m \u001b[1m7s\u001b[0m 63ms/step - accuracy: 0.2836 - loss: 1.5740 - val_accuracy: 0.5491 - val_loss: 1.5242\n",
      "Epoch 14/50\n",
      "\u001b[1m114/114\u001b[0m \u001b[32m━━━━━━━━━━━━━━━━━━━━\u001b[0m\u001b[37m\u001b[0m \u001b[1m6s\u001b[0m 54ms/step - accuracy: 0.3007 - loss: 1.5549 - val_accuracy: 0.4364 - val_loss: 1.5346\n",
      "Epoch 15/50\n",
      "\u001b[1m114/114\u001b[0m \u001b[32m━━━━━━━━━━━━━━━━━━━━\u001b[0m\u001b[37m\u001b[0m \u001b[1m7s\u001b[0m 62ms/step - accuracy: 0.2974 - loss: 1.5505 - val_accuracy: 0.4634 - val_loss: 1.5094\n",
      "Epoch 16/50\n",
      "\u001b[1m114/114\u001b[0m \u001b[32m━━━━━━━━━━━━━━━━━━━━\u001b[0m\u001b[37m\u001b[0m \u001b[1m7s\u001b[0m 63ms/step - accuracy: 0.3073 - loss: 1.5267 - val_accuracy: 0.3940 - val_loss: 1.4883\n",
      "Epoch 17/50\n",
      "\u001b[1m114/114\u001b[0m \u001b[32m━━━━━━━━━━━━━━━━━━━━\u001b[0m\u001b[37m\u001b[0m \u001b[1m7s\u001b[0m 63ms/step - accuracy: 0.2963 - loss: 1.5156 - val_accuracy: 0.3902 - val_loss: 1.4379\n",
      "Epoch 18/50\n",
      "\u001b[1m114/114\u001b[0m \u001b[32m━━━━━━━━━━━━━━━━━━━━\u001b[0m\u001b[37m\u001b[0m \u001b[1m7s\u001b[0m 62ms/step - accuracy: 0.3395 - loss: 1.4880 - val_accuracy: 0.3969 - val_loss: 1.4312\n",
      "Epoch 19/50\n",
      "\u001b[1m114/114\u001b[0m \u001b[32m━━━━━━━━━━━━━━━━━━━━\u001b[0m\u001b[37m\u001b[0m \u001b[1m7s\u001b[0m 63ms/step - accuracy: 0.3567 - loss: 1.4581 - val_accuracy: 0.4316 - val_loss: 1.3679\n",
      "Epoch 20/50\n",
      "\u001b[1m114/114\u001b[0m \u001b[32m━━━━━━━━━━━━━━━━━━━━\u001b[0m\u001b[37m\u001b[0m \u001b[1m6s\u001b[0m 55ms/step - accuracy: 0.3241 - loss: 1.4934 - val_accuracy: 0.4152 - val_loss: 1.4233\n",
      "Epoch 21/50\n",
      "\u001b[1m114/114\u001b[0m \u001b[32m━━━━━━━━━━━━━━━━━━━━\u001b[0m\u001b[37m\u001b[0m \u001b[1m6s\u001b[0m 54ms/step - accuracy: 0.3059 - loss: 1.5079 - val_accuracy: 0.3353 - val_loss: 1.5389\n",
      "Epoch 22/50\n",
      "\u001b[1m114/114\u001b[0m \u001b[32m━━━━━━━━━━━━━━━━━━━━\u001b[0m\u001b[37m\u001b[0m \u001b[1m6s\u001b[0m 54ms/step - accuracy: 0.2993 - loss: 1.5055 - val_accuracy: 0.4383 - val_loss: 1.3724\n",
      "Epoch 23/50\n",
      "\u001b[1m114/114\u001b[0m \u001b[32m━━━━━━━━━━━━━━━━━━━━\u001b[0m\u001b[37m\u001b[0m \u001b[1m6s\u001b[0m 54ms/step - accuracy: 0.3200 - loss: 1.4828 - val_accuracy: 0.3767 - val_loss: 1.4540\n",
      "Epoch 24/50\n",
      "\u001b[1m114/114\u001b[0m \u001b[32m━━━━━━━━━━━━━━━━━━━━\u001b[0m\u001b[37m\u001b[0m \u001b[1m6s\u001b[0m 54ms/step - accuracy: 0.3162 - loss: 1.4825 - val_accuracy: 0.4114 - val_loss: 1.3796\n",
      "Epoch 25/50\n",
      "\u001b[1m114/114\u001b[0m \u001b[32m━━━━━━━━━━━━━━━━━━━━\u001b[0m\u001b[37m\u001b[0m \u001b[1m7s\u001b[0m 62ms/step - accuracy: 0.3306 - loss: 1.4732 - val_accuracy: 0.4730 - val_loss: 1.3374\n",
      "Epoch 26/50\n",
      "\u001b[1m114/114\u001b[0m \u001b[32m━━━━━━━━━━━━━━━━━━━━\u001b[0m\u001b[37m\u001b[0m \u001b[1m6s\u001b[0m 54ms/step - accuracy: 0.3232 - loss: 1.4662 - val_accuracy: 0.4297 - val_loss: 1.3596\n",
      "Epoch 27/50\n",
      "\u001b[1m114/114\u001b[0m \u001b[32m━━━━━━━━━━━━━━━━━━━━\u001b[0m\u001b[37m\u001b[0m \u001b[1m6s\u001b[0m 54ms/step - accuracy: 0.3333 - loss: 1.4730 - val_accuracy: 0.4345 - val_loss: 1.3397\n",
      "Epoch 28/50\n",
      "\u001b[1m114/114\u001b[0m \u001b[32m━━━━━━━━━━━━━━━━━━━━\u001b[0m\u001b[37m\u001b[0m \u001b[1m6s\u001b[0m 54ms/step - accuracy: 0.3313 - loss: 1.4750 - val_accuracy: 0.4412 - val_loss: 1.3996\n",
      "Epoch 29/50\n",
      "\u001b[1m114/114\u001b[0m \u001b[32m━━━━━━━━━━━━━━━━━━━━\u001b[0m\u001b[37m\u001b[0m \u001b[1m6s\u001b[0m 54ms/step - accuracy: 0.3185 - loss: 1.4587 - val_accuracy: 0.3767 - val_loss: 1.4327\n",
      "Epoch 30/50\n",
      "\u001b[1m114/114\u001b[0m \u001b[32m━━━━━━━━━━━━━━━━━━━━\u001b[0m\u001b[37m\u001b[0m \u001b[1m7s\u001b[0m 63ms/step - accuracy: 0.3320 - loss: 1.4653 - val_accuracy: 0.4509 - val_loss: 1.3068\n",
      "Epoch 31/50\n",
      "\u001b[1m114/114\u001b[0m \u001b[32m━━━━━━━━━━━━━━━━━━━━\u001b[0m\u001b[37m\u001b[0m \u001b[1m7s\u001b[0m 63ms/step - accuracy: 0.3282 - loss: 1.4478 - val_accuracy: 0.4836 - val_loss: 1.2850\n",
      "Epoch 32/50\n",
      "\u001b[1m114/114\u001b[0m \u001b[32m━━━━━━━━━━━━━━━━━━━━\u001b[0m\u001b[37m\u001b[0m \u001b[1m6s\u001b[0m 54ms/step - accuracy: 0.3417 - loss: 1.4355 - val_accuracy: 0.4326 - val_loss: 1.3779\n",
      "Epoch 33/50\n",
      "\u001b[1m114/114\u001b[0m \u001b[32m━━━━━━━━━━━━━━━━━━━━\u001b[0m\u001b[37m\u001b[0m \u001b[1m7s\u001b[0m 63ms/step - accuracy: 0.3112 - loss: 1.4831 - val_accuracy: 0.4933 - val_loss: 1.2842\n",
      "Epoch 34/50\n",
      "\u001b[1m114/114\u001b[0m \u001b[32m━━━━━━━━━━━━━━━━━━━━\u001b[0m\u001b[37m\u001b[0m \u001b[1m6s\u001b[0m 54ms/step - accuracy: 0.3331 - loss: 1.4565 - val_accuracy: 0.4663 - val_loss: 1.3526\n",
      "Epoch 35/50\n",
      "\u001b[1m114/114\u001b[0m \u001b[32m━━━━━━━━━━━━━━━━━━━━\u001b[0m\u001b[37m\u001b[0m \u001b[1m6s\u001b[0m 54ms/step - accuracy: 0.3211 - loss: 1.4566 - val_accuracy: 0.4316 - val_loss: 1.3239\n",
      "Epoch 36/50\n",
      "\u001b[1m114/114\u001b[0m \u001b[32m━━━━━━━━━━━━━━━━━━━━\u001b[0m\u001b[37m\u001b[0m \u001b[1m6s\u001b[0m 54ms/step - accuracy: 0.3412 - loss: 1.4408 - val_accuracy: 0.4615 - val_loss: 1.2977\n",
      "Epoch 37/50\n",
      "\u001b[1m114/114\u001b[0m \u001b[32m━━━━━━━━━━━━━━━━━━━━\u001b[0m\u001b[37m\u001b[0m \u001b[1m6s\u001b[0m 54ms/step - accuracy: 0.3204 - loss: 1.4698 - val_accuracy: 0.4249 - val_loss: 1.3702\n",
      "Epoch 38/50\n",
      "\u001b[1m114/114\u001b[0m \u001b[32m━━━━━━━━━━━━━━━━━━━━\u001b[0m\u001b[37m\u001b[0m \u001b[1m6s\u001b[0m 54ms/step - accuracy: 0.3502 - loss: 1.4420 - val_accuracy: 0.4432 - val_loss: 1.3152\n",
      "Epoch 39/50\n",
      "\u001b[1m114/114\u001b[0m \u001b[32m━━━━━━━━━━━━━━━━━━━━\u001b[0m\u001b[37m\u001b[0m \u001b[1m6s\u001b[0m 54ms/step - accuracy: 0.3397 - loss: 1.4384 - val_accuracy: 0.4200 - val_loss: 1.3617\n",
      "Epoch 40/50\n",
      "\u001b[1m114/114\u001b[0m \u001b[32m━━━━━━━━━━━━━━━━━━━━\u001b[0m\u001b[37m\u001b[0m \u001b[1m6s\u001b[0m 54ms/step - accuracy: 0.3330 - loss: 1.4579 - val_accuracy: 0.4422 - val_loss: 1.2971\n",
      "Epoch 41/50\n",
      "\u001b[1m114/114\u001b[0m \u001b[32m━━━━━━━━━━━━━━━━━━━━\u001b[0m\u001b[37m\u001b[0m \u001b[1m6s\u001b[0m 54ms/step - accuracy: 0.3480 - loss: 1.4382 - val_accuracy: 0.4451 - val_loss: 1.2850\n",
      "Epoch 42/50\n",
      "\u001b[1m114/114\u001b[0m \u001b[32m━━━━━━━━━━━━━━━━━━━━\u001b[0m\u001b[37m\u001b[0m \u001b[1m6s\u001b[0m 55ms/step - accuracy: 0.3445 - loss: 1.4406 - val_accuracy: 0.4133 - val_loss: 1.3869\n",
      "Epoch 43/50\n",
      "\u001b[1m114/114\u001b[0m \u001b[32m━━━━━━━━━━━━━━━━━━━━\u001b[0m\u001b[37m\u001b[0m \u001b[1m7s\u001b[0m 63ms/step - accuracy: 0.3293 - loss: 1.4594 - val_accuracy: 0.4981 - val_loss: 1.2731\n",
      "Epoch 44/50\n",
      "\u001b[1m114/114\u001b[0m \u001b[32m━━━━━━━━━━━━━━━━━━━━\u001b[0m\u001b[37m\u001b[0m \u001b[1m6s\u001b[0m 54ms/step - accuracy: 0.3265 - loss: 1.4421 - val_accuracy: 0.4798 - val_loss: 1.3054\n",
      "Epoch 45/50\n",
      "\u001b[1m114/114\u001b[0m \u001b[32m━━━━━━━━━━━━━━━━━━━━\u001b[0m\u001b[37m\u001b[0m \u001b[1m7s\u001b[0m 64ms/step - accuracy: 0.3202 - loss: 1.4463 - val_accuracy: 0.4913 - val_loss: 1.2438\n",
      "Epoch 46/50\n",
      "\u001b[1m114/114\u001b[0m \u001b[32m━━━━━━━━━━━━━━━━━━━━\u001b[0m\u001b[37m\u001b[0m \u001b[1m6s\u001b[0m 54ms/step - accuracy: 0.3195 - loss: 1.4329 - val_accuracy: 0.4268 - val_loss: 1.3129\n",
      "Epoch 47/50\n",
      "\u001b[1m114/114\u001b[0m \u001b[32m━━━━━━━━━━━━━━━━━━━━\u001b[0m\u001b[37m\u001b[0m \u001b[1m7s\u001b[0m 62ms/step - accuracy: 0.3421 - loss: 1.4418 - val_accuracy: 0.5019 - val_loss: 1.2346\n",
      "Epoch 48/50\n",
      "\u001b[1m114/114\u001b[0m \u001b[32m━━━━━━━━━━━━━━━━━━━━\u001b[0m\u001b[37m\u001b[0m \u001b[1m6s\u001b[0m 54ms/step - accuracy: 0.3329 - loss: 1.4467 - val_accuracy: 0.4644 - val_loss: 1.3426\n",
      "Epoch 49/50\n",
      "\u001b[1m114/114\u001b[0m \u001b[32m━━━━━━━━━━━━━━━━━━━━\u001b[0m\u001b[37m\u001b[0m \u001b[1m6s\u001b[0m 54ms/step - accuracy: 0.3380 - loss: 1.4133 - val_accuracy: 0.4538 - val_loss: 1.2542\n",
      "Epoch 50/50\n",
      "\u001b[1m114/114\u001b[0m \u001b[32m━━━━━━━━━━━━━━━━━━━━\u001b[0m\u001b[37m\u001b[0m \u001b[1m6s\u001b[0m 54ms/step - accuracy: 0.3400 - loss: 1.4270 - val_accuracy: 0.4836 - val_loss: 1.2494\n"
     ]
    },
    {
     "name": "stderr",
     "output_type": "stream",
     "text": [
      "Trial 4 finished with value: 1.2493939399719238 and parameters: {'activation': 'relu', 'n_layers': 2, 'n_units': 128, 'optimizer': 'adam'}. Best is trial 4 with value: 1.2493939399719238.\n",
      "Trial 4 finished with value: 1.2493939399719238 and parameters: {'activation': 'relu', 'n_layers': 2, 'n_units': 128, 'optimizer': 'adam'}. Best is trial 4 with value: 1.2493939399719238.\n",
      "Trial 4 finished with value: 1.2493939399719238 and parameters: {'activation': 'relu', 'n_layers': 2, 'n_units': 128, 'optimizer': 'adam'}. Best is trial 4 with value: 1.2493939399719238.\n"
     ]
    },
    {
     "name": "stdout",
     "output_type": "stream",
     "text": [
      "[I 2025-06-26 13:05:43,376] Trial 4 finished with value: 1.2493939399719238 and parameters: {'activation': 'relu', 'n_layers': 2, 'n_units': 128, 'optimizer': 'adam'}. Best is trial 4 with value: 1.2493939399719238.\n"
     ]
    }
   ],
   "source": [
    "\n",
    "\n",
    "# Logging and study setup\n",
    "optuna.logging.get_logger(\"optuna\").addHandler(logging.FileHandler(\"optuna_resnet50.log\"))\n",
    "\n",
    "study = optuna.create_study(\n",
    "    direction=\"minimize\",\n",
    "    sampler=optuna.samplers.RandomSampler(),\n",
    "    study_name=\"resnet_tuning\"\n",
    ")\n",
    "\n",
    "study.optimize(objective, n_trials=5,show_progress_bar=True)"
   ]
  },
  {
   "cell_type": "code",
   "execution_count": 19,
   "metadata": {
    "execution": {
     "iopub.execute_input": "2025-06-25T13:16:22.193284Z",
     "iopub.status.busy": "2025-06-25T13:16:22.193016Z",
     "iopub.status.idle": "2025-06-25T13:16:45.597646Z",
     "shell.execute_reply": "2025-06-25T13:16:45.596879Z",
     "shell.execute_reply.started": "2025-06-25T13:16:22.193265Z"
    },
    "trusted": true
   },
   "outputs": [
    {
     "data": {
      "text/plain": [
       "'/kaggle/working/resnet_checkpoints.zip'"
      ]
     },
     "execution_count": 19,
     "metadata": {},
     "output_type": "execute_result"
    }
   ],
   "source": [
    "import shutil\n",
    "shutil.make_archive('resnet_checkpoints', 'zip', \"/kaggle/working/resnet_checkpoints\")\n"
   ]
  },
  {
   "cell_type": "code",
   "execution_count": 11,
   "metadata": {
    "execution": {
     "iopub.execute_input": "2025-06-25T18:31:05.448715Z",
     "iopub.status.busy": "2025-06-25T18:31:05.447981Z",
     "iopub.status.idle": "2025-06-25T18:31:06.107033Z",
     "shell.execute_reply": "2025-06-25T18:31:06.106209Z",
     "shell.execute_reply.started": "2025-06-25T18:31:05.448690Z"
    },
    "trusted": true
   },
   "outputs": [
    {
     "data": {
      "image/png": "[encoded data removed]",
      "text/plain": [
       "<Figure size 1400x600 with 2 Axes>"
      ]
     },
     "metadata": {},
     "output_type": "display_data"
    }
   ],
   "source": [
    "import matplotlib.pyplot as plt\n",
    "\n",
    "# Create subplots for loss and accuracy\n",
    "fig, axs = plt.subplots(1, 2, figsize=(14, 6))\n",
    "\n",
    "for trial in study.trials:\n",
    "    history = trial.user_attrs.get(\"history\")\n",
    "    if history:\n",
    "        axs[0].plot(history[\"loss\"], label=f\"Trial {trial.number}\")\n",
    "        axs[0].plot(history[\"val_loss\"], linestyle='--')\n",
    "\n",
    "        axs[1].plot(history[\"accuracy\"], label=f\"Trial {trial.number}\")\n",
    "        axs[1].plot(history[\"val_accuracy\"], linestyle='--')\n",
    "\n",
    "axs[0].set_title(\"Training and Validation Loss\")\n",
    "axs[0].set_xlabel(\"Epoch\")\n",
    "axs[0].set_ylabel(\"Loss\")\n",
    "\n",
    "axs[1].set_title(\"Training and Validation Accuracy\")\n",
    "axs[1].set_xlabel(\"Epoch\")\n",
    "axs[1].set_ylabel(\"Accuracy\")\n",
    "\n",
    "axs[0].legend()\n",
    "axs[1].legend()\n",
    "plt.tight_layout()\n",
    "plt.savefig(\"plots/mobilenet.png\")\n",
    "\n",
    "plt.show()\n",
    "\n",
    "\n"
   ]
  },
  {
   "cell_type": "code",
   "execution_count": null,
   "metadata": {
    "trusted": true
   },
   "outputs": [],
   "source": [
    "import shutil\n",
    "shutil.make_archive('resnet_optuna_checkpoints', 'zip', \"/kaggle/working/resnet_checkpoints\")\n"
   ]
  },
  {
   "cell_type": "code",
   "execution_count": null,
   "metadata": {
    "trusted": true
   },
   "outputs": [],
   "source": []
  }
 ],
 "metadata": {
  "accelerator": "GPU",
  "colab": {
   "gpuType": "T4",
   "provenance": []
  },
  "kaggle": {
   "accelerator": "gpu",
   "dataSources": [
    {
     "datasetId": 7747207,
     "sourceId": 12292060,
     "sourceType": "datasetVersion"
    }
   ],
   "dockerImageVersionId": 31041,
   "isGpuEnabled": true,
   "isInternetEnabled": true,
   "language": "python",
   "sourceType": "notebook"
  },
  "kernelspec": {
   "display_name": "Python 3",
   "language": "python",
   "name": "python3"
  },
  "language_info": {
   "codemirror_mode": {
    "name": "ipython",
    "version": 3
   },
   "file_extension": ".py",
   "mimetype": "text/x-python",
   "name": "python",
   "nbconvert_exporter": "python",
   "pygments_lexer": "ipython3",
   "version": "3.11.11"
  }
 },
 "nbformat": 4,
 "nbformat_minor": 4
}
